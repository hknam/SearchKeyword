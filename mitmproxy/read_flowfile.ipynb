{
 "cells": [
  {
   "cell_type": "code",
   "execution_count": 14,
   "metadata": {
    "collapsed": true
   },
   "outputs": [],
   "source": [
    "from mitmproxy import io\n",
    "from mitmproxy.exceptions import FlowReadException\n",
    "import sys\n",
    "from controller import init_logger"
   ]
  },
  {
   "cell_type": "code",
   "execution_count": 18,
   "metadata": {
    "collapsed": true
   },
   "outputs": [],
   "source": [
    "def read_flowfile(flowfile):\n",
    "    with open(flowfile, 'rb') as logfile:    \n",
    "        freader = io.FlowReader(logfile)\n",
    "        try:\n",
    "            for flow in freader.stream():\n",
    "                find_search_keyword(str(flow))\n",
    "                break\n",
    "        except FlowReadException as e:\n",
    "            print(\"flow file corrupted: {}\".format(e))"
   ]
  },
  {
   "cell_type": "code",
   "execution_count": 19,
   "metadata": {
    "collapsed": true
   },
   "outputs": [],
   "source": [
    "def find_search_keyword(flow):\n",
    "    lines = flow.split('\\n')\n",
    "    for line in lines:\n",
    "        if line.find('request') >= 0:\n",
    "            print(line)"
   ]
  },
  {
   "cell_type": "code",
   "execution_count": null,
   "metadata": {
    "collapsed": true
   },
   "outputs": [],
   "source": []
  }
 ],
 "metadata": {
  "kernelspec": {
   "display_name": "Python 3",
   "language": "python",
   "name": "python3"
  },
  "language_info": {
   "codemirror_mode": {
    "name": "ipython",
    "version": 3
   },
   "file_extension": ".py",
   "mimetype": "text/x-python",
   "name": "python",
   "nbconvert_exporter": "python",
   "pygments_lexer": "ipython3",
   "version": "3.6.1"
  }
 },
 "nbformat": 4,
 "nbformat_minor": 2
}
