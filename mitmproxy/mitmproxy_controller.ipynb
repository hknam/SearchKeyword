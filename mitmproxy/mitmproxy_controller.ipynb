{
 "cells": [
  {
   "cell_type": "code",
   "execution_count": 22,
   "metadata": {
    "collapsed": true
   },
   "outputs": [],
   "source": [
    "import subprocess\n",
    "import time\n",
    "import logging\n",
    "import configparser\n",
    "\n",
    "global config\n",
    "global logger"
   ]
  },
  {
   "cell_type": "code",
   "execution_count": 23,
   "metadata": {
    "collapsed": true
   },
   "outputs": [],
   "source": [
    "def init_logger():\n",
    "    \n",
    "    global config\n",
    "    global logger\n",
    "    \n",
    "    config = configparser.ConfigParser()\n",
    "    config.read('config.ini')\n",
    "    \n",
    "    logger = logging.getLogger('mitmproxy')\n",
    "\n",
    "    fomatter = logging.Formatter('[%(levelname)s|%(filename)s:%(lineno)s] %(asctime)s > %(message)s')\n",
    "    \n",
    "    file_name = config['filename']['browser']\n",
    "\n",
    "    file_handler = logging.FileHandler(file_name)\n",
    "    stream_handler = logging.StreamHandler()\n",
    "\n",
    "    file_handler.setFormatter(fomatter)\n",
    "    stream_handler.setFormatter(fomatter)\n",
    "\n",
    "    logger.addHandler(file_handler)\n",
    "    logger.addHandler(stream_handler)\n",
    "\n",
    "    logger.setLevel(logging.DEBUG)\n",
    "\n",
    "    return logger"
   ]
  },
  {
   "cell_type": "code",
   "execution_count": 24,
   "metadata": {
    "collapsed": true
   },
   "outputs": [],
   "source": [
    "def start_process(dumpfile_name):\n",
    "    #global config\n",
    "    #container_name = config['proxy']['name']\n",
    "    container_name = 'mitmproxy'\n",
    "    \n",
    "    file_path = '/home/' + dumpfile_name\n",
    "      \n",
    "    command = \"docker exec \" + container_name + \" mitmproxy -w \" + file_path\n",
    "    #logger.debug(command)\n",
    "\n",
    "    run_command = subprocess.Popen(command, stdout=subprocess.PIPE, shell=True)"
   ]
  },
  {
   "cell_type": "code",
   "execution_count": 28,
   "metadata": {
    "collapsed": true
   },
   "outputs": [],
   "source": [
    "def kill_process(process):\n",
    "    \n",
    "    #container_name = config['proxy']['name']\n",
    "    container_name = 'mitmproxy'\n",
    "    process_list_command = \"docker exec \" + container_name + \" ps\"\n",
    "    process_list_result = subprocess.check_output(process_list_command, shell=True)\n",
    "    results = str(process_list_result).split('\\\\n')\n",
    "    index = -1\n",
    "    \n",
    "    for result in results:\n",
    "        if result.find('mitmproxy') > 0:\n",
    "            lst = result.split(' ')\n",
    "            index = lst[lst.index('?')-1]\n",
    "            break\n",
    "    \n",
    "    process_kill_command = \"docker exec \" + container_name + \" kill \" + str(index)\n",
    "    #logger.debug(process_kill_command)\n",
    "    run_command = subprocess.Popen(process_kill_command, stdout=subprocess.PIPE, shell=True)"
   ]
  },
  {
   "cell_type": "code",
   "execution_count": 26,
   "metadata": {
    "collapsed": true
   },
   "outputs": [],
   "source": [
    "def main():\n",
    "    logger = init_logger()\n",
    "    \n",
    "\n",
    "    logger.info(\"TEST START\")\n",
    "    logger.debug(\"mitmproxy start\")\n",
    "\n",
    "    proc = start_process('test')\n",
    "    logger.debug(\"mitmproxy run\")\n",
    "\n",
    "    kill_process(proc)\n",
    "    logger.debug(\"mitmproxy stop\")\n",
    "   "
   ]
  },
  {
   "cell_type": "code",
   "execution_count": null,
   "metadata": {
    "collapsed": true
   },
   "outputs": [],
   "source": [
    "if __name__ == \"__main__\":\n",
    "    main()"
   ]
  },
  {
   "cell_type": "code",
   "execution_count": null,
   "metadata": {
    "collapsed": true
   },
   "outputs": [],
   "source": []
  }
 ],
 "metadata": {
  "kernelspec": {
   "display_name": "Python 3",
   "language": "python",
   "name": "python3"
  },
  "language_info": {
   "codemirror_mode": {
    "name": "ipython",
    "version": 3
   },
   "file_extension": ".py",
   "mimetype": "text/x-python",
   "name": "python",
   "nbconvert_exporter": "python",
   "pygments_lexer": "ipython3",
   "version": "3.6.1"
  }
 },
 "nbformat": 4,
 "nbformat_minor": 2
}
