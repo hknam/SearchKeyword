{
 "cells": [
  {
   "cell_type": "code",
   "execution_count": 1,
   "metadata": {
    "collapsed": true
   },
   "outputs": [],
   "source": [
    "from selenium import webdriver\n",
    "from selneium.webdriver.common.keys import Keys\n",
    "import configparser"
   ]
  },
  {
   "cell_type": "code",
   "execution_count": 2,
   "metadata": {},
   "outputs": [
    {
     "data": {
      "text/plain": [
       "['config.ini']"
      ]
     },
     "execution_count": 2,
     "metadata": {},
     "output_type": "execute_result"
    }
   ],
   "source": [
    "config = configparser.ConfigParser()\n",
    "config.read('config.ini')"
   ]
  },
  {
   "cell_type": "code",
   "execution_count": 3,
   "metadata": {
    "collapsed": true
   },
   "outputs": [],
   "source": [
    "proxy = config['proxy']['address']\n",
    "port =  config['proxy']['port']\n",
    "driver_path = config['webdriver']['path']\n",
    "base_url = config['webdriver']['base_url']"
   ]
  },
  {
   "cell_type": "code",
   "execution_count": 4,
   "metadata": {
    "collapsed": true
   },
   "outputs": [],
   "source": [
    "def init_webdriver():\n",
    "    \"\"\"\n",
    "        apply proxy preference to selenium webdriver\n",
    "        get proxy, webdriver settring form config.ini            \n",
    "    \"\"\"\n",
    "    \n",
    "    try:\n",
    "        profile = webdriver.FirefoxProfile()\n",
    "        profile.set_preference('network.proxy.ssl_port', int(port))\n",
    "        profile.set_preference('network.proxy.ssl', proxy)\n",
    "        profile.set_preference('network.proxy.http_port', int(port))\n",
    "        profile.set_preference('network.proxy.http', proxy)\n",
    "        profile.set_preference('network.proxy.type', 1)\n",
    "        \n",
    "        driver = webdriver.Firefox(executable_path = driver_path, firefox_profile = profile)\n",
    "        driver.set_page_load_timeout(15)\n",
    "                \n",
    "        return driver\n",
    "    except Exception as e:\n",
    "        print(e)\n",
    "        driver.quit()"
   ]
  },
  {
   "cell_type": "code",
   "execution_count": null,
   "metadata": {
    "collapsed": true
   },
   "outputs": [],
   "source": [
    "def send_key(tag):\n",
    "    try:\n",
    "        elem = driver.find_element_by_id(tag)\n",
    "        elem.send_keys(\"iphone\")\n",
    "        elem.send_keys(Keys.RETURN)\n",
    "    except Exception as e:\n",
    "        print(e)"
   ]
  },
  {
   "cell_type": "code",
   "execution_count": null,
   "metadata": {
    "collapsed": true
   },
   "outputs": [],
   "source": [
    "def find_external_url():\n",
    "    links = driver.find_elements_by_tag_name('a')\n",
    "    for link in links:\n",
    "        print(link.text)"
   ]
  },
  {
   "cell_type": "code",
   "execution_count": null,
   "metadata": {
    "collapsed": true
   },
   "outputs": [],
   "source": [
    "for tag in tags:\n",
    "    prev_url = driver.current_url\n",
    "    tag_id = tag.get_attribute('id')\n",
    "    send_key(tag_id)\n",
    "    next_url = driver.current_url\n",
    "    if prev_url != next_url:\n",
    "        find_href()\n",
    "        break"
   ]
  },
  {
   "cell_type": "code",
   "execution_count": 5,
   "metadata": {
    "collapsed": true
   },
   "outputs": [],
   "source": [
    "def main():\n",
    "    try:\n",
    "        driver = init_webdriver()\n",
    "        driver.get(base_url)\n",
    "    except Exception as e:\n",
    "        print(e)\n",
    "        sys.exit(1)"
   ]
  },
  {
   "cell_type": "code",
   "execution_count": null,
   "metadata": {
    "collapsed": true
   },
   "outputs": [],
   "source": [
    "if __name__ == \"__main__\":\n",
    "    main()"
   ]
  },
  {
   "cell_type": "code",
   "execution_count": null,
   "metadata": {
    "collapsed": true
   },
   "outputs": [],
   "source": []
  }
 ],
 "metadata": {
  "kernelspec": {
   "display_name": "Python 3",
   "language": "python",
   "name": "python3"
  },
  "language_info": {
   "codemirror_mode": {
    "name": "ipython",
    "version": 3
   },
   "file_extension": ".py",
   "mimetype": "text/x-python",
   "name": "python",
   "nbconvert_exporter": "python",
   "pygments_lexer": "ipython3",
   "version": "3.6.1"
  }
 },
 "nbformat": 4,
 "nbformat_minor": 2
}
