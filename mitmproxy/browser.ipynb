{
 "cells": [
  {
   "cell_type": "code",
   "execution_count": 1,
   "metadata": {
    "collapsed": true
   },
   "outputs": [],
   "source": [
    "import sys\n",
    "import linecache\n",
    "from selenium import webdriver\n",
    "from selenium.webdriver.common.keys import Keys\n",
    "import configparser\n",
    "import mitmproxy_controller as controller"
   ]
  },
  {
   "cell_type": "code",
   "execution_count": 2,
   "metadata": {},
   "outputs": [
    {
     "data": {
      "text/plain": [
       "['config.ini']"
      ]
     },
     "execution_count": 2,
     "metadata": {},
     "output_type": "execute_result"
    }
   ],
   "source": [
    "config = configparser.ConfigParser()\n",
    "config.read('config.ini')"
   ]
  },
  {
   "cell_type": "code",
   "execution_count": 3,
   "metadata": {
    "collapsed": true
   },
   "outputs": [],
   "source": [
    "proxy = config['proxy']['address']\n",
    "port =  config['proxy']['port']\n",
    "driver_path = config['webdriver']['path']\n",
    "base_url = config['webdriver']['base_url']"
   ]
  },
  {
   "cell_type": "code",
   "execution_count": 4,
   "metadata": {
    "collapsed": true
   },
   "outputs": [],
   "source": [
    "def init_webdriver():\n",
    "    \"\"\"\n",
    "        apply proxy preference to selenium webdriver\n",
    "        get proxy, webdriver settring form config.ini            \n",
    "    \"\"\"\n",
    "    \n",
    "    try:       \n",
    "        profile = webdriver.FirefoxProfile()\n",
    "        profile.set_preference('network.proxy.ssl_port', int(port))\n",
    "        profile.set_preference('network.proxy.ssl', proxy)\n",
    "        profile.set_preference('network.proxy.http_port', int(port))\n",
    "        profile.set_preference('network.proxy.http', proxy)\n",
    "        profile.set_preference('network.proxy.type', 1)\n",
    "        \n",
    "        driver = webdriver.Firefox(executable_path = driver_path, firefox_profile = profile)\n",
    "        driver.set_page_load_timeout(60)\n",
    "                \n",
    "        return driver\n",
    "    except Exception as e:\n",
    "        print(e)\n",
    "        driver.quit()"
   ]
  },
  {
   "cell_type": "code",
   "execution_count": 5,
   "metadata": {
    "collapsed": true
   },
   "outputs": [],
   "source": [
    "def find_external_url(driver):\n",
    "    links = driver.find_elements_by_tag_name('a')\n",
    "    for link in links:\n",
    "        print(link.text)"
   ]
  },
  {
   "cell_type": "code",
   "execution_count": 6,
   "metadata": {
    "collapsed": true
   },
   "outputs": [],
   "source": [
    "def find_input_tag(driver):\n",
    "    try:\n",
    "        tags = driver.find_elements_by_tag_name('input')\n",
    "        for tag in tags:\n",
    "            \n",
    "            if tag.get_attribute('type') != 'text':\n",
    "                continue\n",
    "                \n",
    "            prev_url = driver.current_url\n",
    "\n",
    "            tag_id = find_id_tag(tag)\n",
    "            tag_name = find_name_tag(tag)\n",
    "            tag_class = find_class_tag(tag)\n",
    "\n",
    "            if tag_id:\n",
    "                elem = driver.find_element_by_id(tag_id)\n",
    "                elem.send_keys('iphone')\n",
    "                elem.send_keys(Keys.RETURN)\n",
    "\n",
    "                next_url = driver.current_url\n",
    "                if prev_url != next_url:\n",
    "                    find_href(driver)\n",
    "                break\n",
    "\n",
    "            elif tag_name:\n",
    "                elem = driver.find_element_by_name(tag_name)\n",
    "                elem.send_keys('iphone')\n",
    "                elem.send_keys(Keys.RETURN)\n",
    "\n",
    "                next_url = driver.current_url\n",
    "                if prev_url != next_url:\n",
    "                    find_href(driver)\n",
    "                break\n",
    "            elif tag_class:\n",
    "                elem = driver.find_element_by_class_name(tag_class)\n",
    "                elem.send_keys('iphone')\n",
    "                elem.send_keys(Keys.RETURN)\n",
    "\n",
    "                next_url = driver.current_url\n",
    "                if prev_url != next_url:\n",
    "                    find_href(driver)\n",
    "                break\n",
    "            else:\n",
    "                print(\"Doesn't find any input tags\")\n",
    "                \n",
    "    except Exception as e:\n",
    "        exc_type, exc_obj, tb = sys.exc_info()\n",
    "        f = tb.tb_frame\n",
    "        lineno = tb.tb_lineno\n",
    "        filename = f.f_code.co_filename\n",
    "        linecache.checkcache(filename)\n",
    "        line = linecache.getline(filename, lineno, f.f_globals)\n",
    "        print('EXCEPTION IN ({}, LINE {} \"{}\"): {}'.format(filename, lineno, line.strip(), exc_obj) )\n",
    "        print(e)"
   ]
  },
  {
   "cell_type": "code",
   "execution_count": 7,
   "metadata": {
    "collapsed": true
   },
   "outputs": [],
   "source": [
    "def find_id_tag(tag):\n",
    "    if tag.get_attribute('id'):\n",
    "        return tag.get_attribute('id')\n",
    "    else:\n",
    "        return False"
   ]
  },
  {
   "cell_type": "code",
   "execution_count": 8,
   "metadata": {
    "collapsed": true
   },
   "outputs": [],
   "source": [
    "def find_class_tag(tag):\n",
    "    if tag.get_attribute('class'):\n",
    "        return tag.get_attribute('class')\n",
    "    else:\n",
    "        return False"
   ]
  },
  {
   "cell_type": "code",
   "execution_count": 9,
   "metadata": {
    "collapsed": true
   },
   "outputs": [],
   "source": [
    "def find_name_tag(tag):\n",
    "    if tag.get_attribute('name'):\n",
    "        return tag.get_attribute('name')\n",
    "    else:\n",
    "        return False"
   ]
  },
  {
   "cell_type": "code",
   "execution_count": 10,
   "metadata": {
    "collapsed": true
   },
   "outputs": [],
   "source": [
    "def main():\n",
    "    try:\n",
    "        driver = init_webdriver()\n",
    "        #mitm_proc = controller.start_process('test')\n",
    "        \n",
    "        driver.get(base_url)\n",
    "        \n",
    "        '''\n",
    "        with open('gov_list.txt', 'r') as file:\n",
    "            pages = file.read()\n",
    "        for page in pages.split('\\n'):\n",
    "            url = page.split(',')[1]\n",
    "            driver.get(url)\n",
    "            driver.implicitly_wait(30)\n",
    "            find_input_tag(driver)\n",
    "        '''\n",
    "        driver.get('http://gc.jbpolice.go.kr/index.police')\n",
    "        driver.implicitly_wait(30)\n",
    "        find_input_tag(driver)\n",
    "        #controller.kill_process(mitm_proc)\n",
    "        \n",
    "    except Exception as e:\n",
    "        exc_type, exc_obj, tb = sys.exc_info()\n",
    "        f = tb.tb_frame\n",
    "        lineno = tb.tb_lineno\n",
    "        filename = f.f_code.co_filename\n",
    "        linecache.checkcache(filename)\n",
    "        line = linecache.getline(filename, lineno, f.f_globals)\n",
    "        print('EXCEPTION IN ({}, LINE {} \"{}\"): {}'.format(filename, lineno, line.strip(), exc_obj) )\n",
    "        print(e)\n",
    "        driver.quit()\n",
    "        sys.exit(1)"
   ]
  },
  {
   "cell_type": "code",
   "execution_count": 11,
   "metadata": {},
   "outputs": [],
   "source": [
    "if __name__ == \"__main__\":\n",
    "    main()"
   ]
  },
  {
   "cell_type": "code",
   "execution_count": null,
   "metadata": {
    "collapsed": true
   },
   "outputs": [],
   "source": []
  }
 ],
 "metadata": {
  "kernelspec": {
   "display_name": "Python 3",
   "language": "python",
   "name": "python3"
  },
  "language_info": {
   "codemirror_mode": {
    "name": "ipython",
    "version": 3
   },
   "file_extension": ".py",
   "mimetype": "text/x-python",
   "name": "python",
   "nbconvert_exporter": "python",
   "pygments_lexer": "ipython3",
   "version": "3.6.1"
  }
 },
 "nbformat": 4,
 "nbformat_minor": 2
}
