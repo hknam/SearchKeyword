{
 "cells": [
  {
   "cell_type": "code",
   "execution_count": 15,
   "metadata": {
    "collapsed": true
   },
   "outputs": [],
   "source": [
    "import subprocess\n",
    "import time\n",
    "import logging\n",
    "import configparser\n",
    "\n",
    "global config"
   ]
  },
  {
   "cell_type": "code",
   "execution_count": 16,
   "metadata": {
    "collapsed": true
   },
   "outputs": [],
   "source": [
    "def init_logger():\n",
    "    \n",
    "    global config\n",
    "    \n",
    "    config = configparser.ConfigParser()\n",
    "    config.read('config.ini')\n",
    "    \n",
    "    logger = logging.getLogger('mitmproxy')\n",
    "\n",
    "    fomatter = logging.Formatter('[%(levelname)s|%(filename)s:%(lineno)s] %(asctime)s > %(message)s')\n",
    "    \n",
    "    file_name = config['filename']['browser']\n",
    "\n",
    "    file_handler = logging.FileHandler(file_name)\n",
    "    stream_handler = logging.StreamHandler()\n",
    "\n",
    "    file_handler.setFormatter(fomatter)\n",
    "    stream_handler.setFormatter(fomatter)\n",
    "\n",
    "    logger.addHandler(file_handler)\n",
    "    logger.addHandler(stream_handler)\n",
    "\n",
    "    logger.setLevel(logging.DEBUG)\n",
    "\n",
    "    return logger"
   ]
  },
  {
   "cell_type": "code",
   "execution_count": 17,
   "metadata": {
    "collapsed": true
   },
   "outputs": [],
   "source": [
    "def start_process(dumpfile_name):\n",
    "    global config \n",
    "    \n",
    "    container_name = config['proxy']['name']\n",
    "    \n",
    "    file_path = '/home/' + dumpfile_name\n",
    "    \n",
    "  \n",
    "    command = \"docker exec \" + container_name + \" mitmproxy -w \" + file_path\n",
    "\n",
    "    run_command = subprocess.Popen(command, stdout=subprocess.PIPE, shell=True)"
   ]
  },
  {
   "cell_type": "code",
   "execution_count": 25,
   "metadata": {
    "collapsed": true
   },
   "outputs": [],
   "source": [
    "def kill_process(process):\n",
    "    \n",
    "    container_name = config['proxy']['name']\n",
    "    process_list_command = \"docker exec \" + container_name + \" ps\"\n",
    "    process_list_result = subprocess.check_output(process_list_command, shell=True)\n",
    "    results = str(process_list_result).split('\\\\n')\n",
    "    index = -1\n",
    "    \n",
    "    for result in results:\n",
    "        if result.find('mitmproxy') > 0:\n",
    "            lst = result.split(' ')\n",
    "            index = lst.index('?') -1 \n",
    "            break\n",
    "    \n",
    "    process_kiil_command = \"docker exec \" + container_name + \" kill \" + str(index)\n",
    "    \n",
    "    run_command = subprocess.Popen(process_kill_command, stdout=subprocess.PIPE, shell=True)"
   ]
  },
  {
   "cell_type": "code",
   "execution_count": 19,
   "metadata": {
    "collapsed": true
   },
   "outputs": [],
   "source": [
    "def main():\n",
    "    logger = init_logger()\n",
    "    \n",
    "\n",
    "    logger.info(\"TEST START\")\n",
    "    logger.debug(\"mitmproxy start\")\n",
    "\n",
    "    proc = start_process('test')\n",
    "    logger.debug(\"mitmproxy run\")\n",
    "\n",
    "    kill_process(proc)\n",
    "    logger.debug(\"mitmproxy stop\")\n",
    "   "
   ]
  },
  {
   "cell_type": "code",
   "execution_count": 26,
   "metadata": {},
   "outputs": [
    {
     "name": "stderr",
     "output_type": "stream",
     "text": [
      "[INFO|<ipython-input-19-5016114e836c>:5] 2017-07-04 16:57:11,157 > TEST START\n",
      "[INFO|<ipython-input-19-5016114e836c>:5] 2017-07-04 16:57:11,157 > TEST START\n",
      "[INFO|<ipython-input-19-5016114e836c>:5] 2017-07-04 16:57:11,157 > TEST START\n",
      "[INFO|<ipython-input-19-5016114e836c>:5] 2017-07-04 16:57:11,157 > TEST START\n",
      "[INFO|<ipython-input-19-5016114e836c>:5] 2017-07-04 16:57:11,157 > TEST START\n",
      "[INFO|<ipython-input-19-5016114e836c>:5] 2017-07-04 16:57:11,157 > TEST START\n",
      "[INFO|<ipython-input-19-5016114e836c>:5] 2017-07-04 16:57:11,157 > TEST START\n",
      "[INFO|<ipython-input-19-5016114e836c>:5] 2017-07-04 16:57:11,157 > TEST START\n",
      "[DEBUG|<ipython-input-19-5016114e836c>:6] 2017-07-04 16:57:11,171 > mitmproxy start\n",
      "[DEBUG|<ipython-input-19-5016114e836c>:6] 2017-07-04 16:57:11,171 > mitmproxy start\n",
      "[DEBUG|<ipython-input-19-5016114e836c>:6] 2017-07-04 16:57:11,171 > mitmproxy start\n",
      "[DEBUG|<ipython-input-19-5016114e836c>:6] 2017-07-04 16:57:11,171 > mitmproxy start\n",
      "[DEBUG|<ipython-input-19-5016114e836c>:6] 2017-07-04 16:57:11,171 > mitmproxy start\n",
      "[DEBUG|<ipython-input-19-5016114e836c>:6] 2017-07-04 16:57:11,171 > mitmproxy start\n",
      "[DEBUG|<ipython-input-19-5016114e836c>:6] 2017-07-04 16:57:11,171 > mitmproxy start\n",
      "[DEBUG|<ipython-input-19-5016114e836c>:6] 2017-07-04 16:57:11,171 > mitmproxy start\n",
      "[DEBUG|<ipython-input-19-5016114e836c>:9] 2017-07-04 16:57:11,181 > mitmproxy run\n",
      "[DEBUG|<ipython-input-19-5016114e836c>:9] 2017-07-04 16:57:11,181 > mitmproxy run\n",
      "[DEBUG|<ipython-input-19-5016114e836c>:9] 2017-07-04 16:57:11,181 > mitmproxy run\n",
      "[DEBUG|<ipython-input-19-5016114e836c>:9] 2017-07-04 16:57:11,181 > mitmproxy run\n",
      "[DEBUG|<ipython-input-19-5016114e836c>:9] 2017-07-04 16:57:11,181 > mitmproxy run\n",
      "[DEBUG|<ipython-input-19-5016114e836c>:9] 2017-07-04 16:57:11,181 > mitmproxy run\n",
      "[DEBUG|<ipython-input-19-5016114e836c>:9] 2017-07-04 16:57:11,181 > mitmproxy run\n",
      "[DEBUG|<ipython-input-19-5016114e836c>:9] 2017-07-04 16:57:11,181 > mitmproxy run\n"
     ]
    },
    {
     "ename": "NameError",
     "evalue": "name 'process_kill_command' is not defined",
     "output_type": "error",
     "traceback": [
      "\u001b[0;31m---------------------------------------------------------------------------\u001b[0m",
      "\u001b[0;31mNameError\u001b[0m                                 Traceback (most recent call last)",
      "\u001b[0;32m<ipython-input-26-89026442c8a6>\u001b[0m in \u001b[0;36m<module>\u001b[0;34m()\u001b[0m\n\u001b[1;32m      1\u001b[0m \u001b[0;32mif\u001b[0m \u001b[0m__name__\u001b[0m \u001b[0;34m==\u001b[0m \u001b[0;34m\"__main__\"\u001b[0m\u001b[0;34m:\u001b[0m\u001b[0;34m\u001b[0m\u001b[0m\n\u001b[0;32m----> 2\u001b[0;31m     \u001b[0mmain\u001b[0m\u001b[0;34m(\u001b[0m\u001b[0;34m)\u001b[0m\u001b[0;34m\u001b[0m\u001b[0m\n\u001b[0m",
      "\u001b[0;32m<ipython-input-19-5016114e836c>\u001b[0m in \u001b[0;36mmain\u001b[0;34m()\u001b[0m\n\u001b[1;32m      9\u001b[0m     \u001b[0mlogger\u001b[0m\u001b[0;34m.\u001b[0m\u001b[0mdebug\u001b[0m\u001b[0;34m(\u001b[0m\u001b[0;34m\"mitmproxy run\"\u001b[0m\u001b[0;34m)\u001b[0m\u001b[0;34m\u001b[0m\u001b[0m\n\u001b[1;32m     10\u001b[0m \u001b[0;34m\u001b[0m\u001b[0m\n\u001b[0;32m---> 11\u001b[0;31m     \u001b[0mkill_process\u001b[0m\u001b[0;34m(\u001b[0m\u001b[0mproc\u001b[0m\u001b[0;34m)\u001b[0m\u001b[0;34m\u001b[0m\u001b[0m\n\u001b[0m\u001b[1;32m     12\u001b[0m     \u001b[0mlogger\u001b[0m\u001b[0;34m.\u001b[0m\u001b[0mdebug\u001b[0m\u001b[0;34m(\u001b[0m\u001b[0;34m\"mitmproxy stop\"\u001b[0m\u001b[0;34m)\u001b[0m\u001b[0;34m\u001b[0m\u001b[0m\n\u001b[1;32m     13\u001b[0m \u001b[0;34m\u001b[0m\u001b[0m\n",
      "\u001b[0;32m<ipython-input-25-4156723df41b>\u001b[0m in \u001b[0;36mkill_process\u001b[0;34m(process)\u001b[0m\n\u001b[1;32m     15\u001b[0m     \u001b[0mprocess_kiil_command\u001b[0m \u001b[0;34m=\u001b[0m \u001b[0;34m\"docker exec \"\u001b[0m \u001b[0;34m+\u001b[0m \u001b[0mcontainer_name\u001b[0m \u001b[0;34m+\u001b[0m \u001b[0;34m\" kill \"\u001b[0m \u001b[0;34m+\u001b[0m \u001b[0mstr\u001b[0m\u001b[0;34m(\u001b[0m\u001b[0mindex\u001b[0m\u001b[0;34m)\u001b[0m\u001b[0;34m\u001b[0m\u001b[0m\n\u001b[1;32m     16\u001b[0m \u001b[0;34m\u001b[0m\u001b[0m\n\u001b[0;32m---> 17\u001b[0;31m     \u001b[0mrun_command\u001b[0m \u001b[0;34m=\u001b[0m \u001b[0msubprocess\u001b[0m\u001b[0;34m.\u001b[0m\u001b[0mPopen\u001b[0m\u001b[0;34m(\u001b[0m\u001b[0mprocess_kill_command\u001b[0m\u001b[0;34m,\u001b[0m \u001b[0mstdout\u001b[0m\u001b[0;34m=\u001b[0m\u001b[0msubprocess\u001b[0m\u001b[0;34m.\u001b[0m\u001b[0mPIPE\u001b[0m\u001b[0;34m,\u001b[0m \u001b[0mshell\u001b[0m\u001b[0;34m=\u001b[0m\u001b[0;32mTrue\u001b[0m\u001b[0;34m)\u001b[0m\u001b[0;34m\u001b[0m\u001b[0m\n\u001b[0m",
      "\u001b[0;31mNameError\u001b[0m: name 'process_kill_command' is not defined"
     ]
    }
   ],
   "source": [
    "if __name__ == \"__main__\":\n",
    "    main()"
   ]
  },
  {
   "cell_type": "code",
   "execution_count": null,
   "metadata": {
    "collapsed": true
   },
   "outputs": [],
   "source": []
  }
 ],
 "metadata": {
  "kernelspec": {
   "display_name": "Python 3",
   "language": "python",
   "name": "python3"
  },
  "language_info": {
   "codemirror_mode": {
    "name": "ipython",
    "version": 3
   },
   "file_extension": ".py",
   "mimetype": "text/x-python",
   "name": "python",
   "nbconvert_exporter": "python",
   "pygments_lexer": "ipython3",
   "version": "3.6.1"
  }
 },
 "nbformat": 4,
 "nbformat_minor": 2
}
