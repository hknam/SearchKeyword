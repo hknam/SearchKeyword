{
 "cells": [
  {
   "cell_type": "code",
   "execution_count": 1,
   "metadata": {
    "collapsed": true
   },
   "outputs": [],
   "source": [
    "import subprocess\n",
    "import time\n",
    "import logging\n",
    "\n",
    "\n",
    "def init_logger():\n",
    "\n",
    "    logger = logging.getLogger('mitmproxy')\n",
    "\n",
    "    fomatter = logging.Formatter('[%(levelname)s|%(filename)s:%(lineno)s] %(asctime)s > %(message)s')\n",
    "\n",
    "    file_name = './controller.log'\n",
    "\n",
    "    file_handler = logging.FileHandler(file_name)\n",
    "    stream_handler = logging.StreamHandler()\n",
    "\n",
    "    file_handler.setFormatter(fomatter)\n",
    "    stream_handler.setFormatter(fomatter)\n",
    "\n",
    "    logger.addHandler(file_handler)\n",
    "    logger.addHandler(stream_handler)\n",
    "\n",
    "    logger.setLevel(logging.DEBUG)\n",
    "\n",
    "    return logger"
   ]
  },
  {
   "cell_type": "code",
   "execution_count": 2,
   "metadata": {
    "collapsed": true
   },
   "outputs": [],
   "source": [
    "def start_process(dumpfile_name):\n",
    "\n",
    "    cmd = \"mitmproxy -w \" + dumpfile_name\n",
    "    mitmporxy_run = subprocess.Popen(cmd, stdout=subprocess.PIPE, shell=True)\n",
    "\n",
    "    return mitmporxy_run"
   ]
  },
  {
   "cell_type": "code",
   "execution_count": 3,
   "metadata": {
    "collapsed": true
   },
   "outputs": [],
   "source": [
    "def kill_process(process):\n",
    "\n",
    "    time.sleep(15)\n",
    "    process.kill()"
   ]
  },
  {
   "cell_type": "code",
   "execution_count": 4,
   "metadata": {
    "collapsed": true
   },
   "outputs": [],
   "source": [
    "def main():\n",
    "    logger = init_logger()\n",
    "\n",
    "    logger.info(\"TEST START\")\n",
    "    logger.debug(\"mitmproxy start\")\n",
    "\n",
    "    proc = start_process('test')\n",
    "    logger.debug(\"mitmproxy run\")\n",
    "\n",
    "    kill_process(proc)\n",
    "    logger.debug(\"mitmproxy stop\")"
   ]
  },
  {
   "cell_type": "code",
   "execution_count": 5,
   "metadata": {},
   "outputs": [
    {
     "name": "stderr",
     "output_type": "stream",
     "text": [
      "[INFO|<ipython-input-4-10bb9f4a9572>:4] 2017-07-03 13:41:53,954 > TEST START\n",
      "[DEBUG|<ipython-input-4-10bb9f4a9572>:5] 2017-07-03 13:41:53,956 > mitmproxy start\n",
      "[DEBUG|<ipython-input-4-10bb9f4a9572>:8] 2017-07-03 13:41:53,960 > mitmproxy run\n",
      "[DEBUG|<ipython-input-4-10bb9f4a9572>:11] 2017-07-03 13:42:08,976 > mitmproxy stop\n"
     ]
    }
   ],
   "source": [
    "if __name__ == \"__main__\":\n",
    "    main()"
   ]
  },
  {
   "cell_type": "code",
   "execution_count": null,
   "metadata": {
    "collapsed": true
   },
   "outputs": [],
   "source": []
  }
 ],
 "metadata": {
  "kernelspec": {
   "display_name": "Python 3",
   "language": "python",
   "name": "python3"
  },
  "language_info": {
   "codemirror_mode": {
    "name": "ipython",
    "version": 3
   },
   "file_extension": ".py",
   "mimetype": "text/x-python",
   "name": "python",
   "nbconvert_exporter": "python",
   "pygments_lexer": "ipython3",
   "version": "3.6.1"
  }
 },
 "nbformat": 4,
 "nbformat_minor": 2
}
